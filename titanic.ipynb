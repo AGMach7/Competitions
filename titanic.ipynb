{
 "cells": [
  {
   "attachments": {},
   "cell_type": "markdown",
   "metadata": {},
   "source": [
    "<h1 style=\"color: #002080; text-align: center;\">Titanic Competition</h1>"
   ]
  },
  {
   "attachments": {},
   "cell_type": "markdown",
   "metadata": {},
   "source": [
    "<h2 style=\"color: #800000;\">1- Import libraries and data</h2>"
   ]
  },
  {
   "attachments": {},
   "cell_type": "markdown",
   "metadata": {},
   "source": [
    "<h3><li style=\"color: #808000;\">Import libraries:</li></h3>"
   ]
  },
  {
   "cell_type": "code",
   "execution_count": 43,
   "metadata": {},
   "outputs": [],
   "source": [
    "import numpy as np\n",
    "import pandas as pd\n",
    "import seaborn as sns\n",
    "import pandas_profiling as pp\n",
    "import matplotlib.pyplot as plt\n",
    "\n",
    "from sklearn.base import BaseEstimator, TransformerMixin\n",
    "from sklearn.pipeline import Pipeline\n",
    "from sklearn.impute import SimpleImputer\n",
    "from sklearn.preprocessing import StandardScaler, OrdinalEncoder, OneHotEncoder\n",
    "from sklearn.compose import ColumnTransformer\n",
    "\n",
    "from sklearn.linear_model import SGDClassifier, LogisticRegression\n",
    "from sklearn.svm import SVC\n",
    "from sklearn.neighbors import KNeighborsClassifier\n",
    "from sklearn.tree import DecisionTreeClassifier\n",
    "from sklearn.ensemble import RandomForestClassifier\n",
    "from sklearn.model_selection import GridSearchCV\n",
    "\n",
    "from sklearn.model_selection import train_test_split, cross_val_score, cross_val_predict\n",
    "from sklearn.metrics import accuracy_score,confusion_matrix,classification_report\n",
    "\n",
    "import warnings\n",
    "warnings.filterwarnings('ignore')\n"
   ]
  },
  {
   "attachments": {},
   "cell_type": "markdown",
   "metadata": {},
   "source": [
    "<h3><li style=\"color: #808000;\">Import data:</li></h3>"
   ]
  },
  {
   "cell_type": "code",
   "execution_count": 44,
   "metadata": {},
   "outputs": [],
   "source": [
    "train = pd.read_csv(\"train.csv\")\n",
    "train.name = 'Train Dataset'\n",
    "test = pd.read_csv(\"test.csv\")\n",
    "test.name = 'Test Dataset'\n",
    "combined_set = [train, test]\n"
   ]
  },
  {
   "attachments": {},
   "cell_type": "markdown",
   "metadata": {},
   "source": [
    "<h2 style=\"color: #800000;\">2- First Look</h2>"
   ]
  },
  {
   "cell_type": "code",
   "execution_count": 45,
   "metadata": {},
   "outputs": [
    {
     "data": {
      "text/html": [
       "<style type=\"text/css\">\n",
       "</style>\n",
       "<table id=\"T_cb975\">\n",
       "  <caption><h2>First 5 rows from Train Dataset</h2></caption>\n",
       "  <thead>\n",
       "    <tr>\n",
       "      <th class=\"blank level0\" >&nbsp;</th>\n",
       "      <th id=\"T_cb975_level0_col0\" class=\"col_heading level0 col0\" >PassengerId</th>\n",
       "      <th id=\"T_cb975_level0_col1\" class=\"col_heading level0 col1\" >Survived</th>\n",
       "      <th id=\"T_cb975_level0_col2\" class=\"col_heading level0 col2\" >Pclass</th>\n",
       "      <th id=\"T_cb975_level0_col3\" class=\"col_heading level0 col3\" >Name</th>\n",
       "      <th id=\"T_cb975_level0_col4\" class=\"col_heading level0 col4\" >Sex</th>\n",
       "      <th id=\"T_cb975_level0_col5\" class=\"col_heading level0 col5\" >Age</th>\n",
       "      <th id=\"T_cb975_level0_col6\" class=\"col_heading level0 col6\" >SibSp</th>\n",
       "      <th id=\"T_cb975_level0_col7\" class=\"col_heading level0 col7\" >Parch</th>\n",
       "      <th id=\"T_cb975_level0_col8\" class=\"col_heading level0 col8\" >Ticket</th>\n",
       "      <th id=\"T_cb975_level0_col9\" class=\"col_heading level0 col9\" >Fare</th>\n",
       "      <th id=\"T_cb975_level0_col10\" class=\"col_heading level0 col10\" >Cabin</th>\n",
       "      <th id=\"T_cb975_level0_col11\" class=\"col_heading level0 col11\" >Embarked</th>\n",
       "    </tr>\n",
       "  </thead>\n",
       "  <tbody>\n",
       "    <tr>\n",
       "      <th id=\"T_cb975_level0_row0\" class=\"row_heading level0 row0\" >0</th>\n",
       "      <td id=\"T_cb975_row0_col0\" class=\"data row0 col0\" >1</td>\n",
       "      <td id=\"T_cb975_row0_col1\" class=\"data row0 col1\" >0</td>\n",
       "      <td id=\"T_cb975_row0_col2\" class=\"data row0 col2\" >3</td>\n",
       "      <td id=\"T_cb975_row0_col3\" class=\"data row0 col3\" >Braund, Mr. Owen Harris</td>\n",
       "      <td id=\"T_cb975_row0_col4\" class=\"data row0 col4\" >male</td>\n",
       "      <td id=\"T_cb975_row0_col5\" class=\"data row0 col5\" >22.000000</td>\n",
       "      <td id=\"T_cb975_row0_col6\" class=\"data row0 col6\" >1</td>\n",
       "      <td id=\"T_cb975_row0_col7\" class=\"data row0 col7\" >0</td>\n",
       "      <td id=\"T_cb975_row0_col8\" class=\"data row0 col8\" >A/5 21171</td>\n",
       "      <td id=\"T_cb975_row0_col9\" class=\"data row0 col9\" >7.250000</td>\n",
       "      <td id=\"T_cb975_row0_col10\" class=\"data row0 col10\" >nan</td>\n",
       "      <td id=\"T_cb975_row0_col11\" class=\"data row0 col11\" >S</td>\n",
       "    </tr>\n",
       "    <tr>\n",
       "      <th id=\"T_cb975_level0_row1\" class=\"row_heading level0 row1\" >1</th>\n",
       "      <td id=\"T_cb975_row1_col0\" class=\"data row1 col0\" >2</td>\n",
       "      <td id=\"T_cb975_row1_col1\" class=\"data row1 col1\" >1</td>\n",
       "      <td id=\"T_cb975_row1_col2\" class=\"data row1 col2\" >1</td>\n",
       "      <td id=\"T_cb975_row1_col3\" class=\"data row1 col3\" >Cumings, Mrs. John Bradley (Florence Briggs Thayer)</td>\n",
       "      <td id=\"T_cb975_row1_col4\" class=\"data row1 col4\" >female</td>\n",
       "      <td id=\"T_cb975_row1_col5\" class=\"data row1 col5\" >38.000000</td>\n",
       "      <td id=\"T_cb975_row1_col6\" class=\"data row1 col6\" >1</td>\n",
       "      <td id=\"T_cb975_row1_col7\" class=\"data row1 col7\" >0</td>\n",
       "      <td id=\"T_cb975_row1_col8\" class=\"data row1 col8\" >PC 17599</td>\n",
       "      <td id=\"T_cb975_row1_col9\" class=\"data row1 col9\" >71.283300</td>\n",
       "      <td id=\"T_cb975_row1_col10\" class=\"data row1 col10\" >C85</td>\n",
       "      <td id=\"T_cb975_row1_col11\" class=\"data row1 col11\" >C</td>\n",
       "    </tr>\n",
       "    <tr>\n",
       "      <th id=\"T_cb975_level0_row2\" class=\"row_heading level0 row2\" >2</th>\n",
       "      <td id=\"T_cb975_row2_col0\" class=\"data row2 col0\" >3</td>\n",
       "      <td id=\"T_cb975_row2_col1\" class=\"data row2 col1\" >1</td>\n",
       "      <td id=\"T_cb975_row2_col2\" class=\"data row2 col2\" >3</td>\n",
       "      <td id=\"T_cb975_row2_col3\" class=\"data row2 col3\" >Heikkinen, Miss. Laina</td>\n",
       "      <td id=\"T_cb975_row2_col4\" class=\"data row2 col4\" >female</td>\n",
       "      <td id=\"T_cb975_row2_col5\" class=\"data row2 col5\" >26.000000</td>\n",
       "      <td id=\"T_cb975_row2_col6\" class=\"data row2 col6\" >0</td>\n",
       "      <td id=\"T_cb975_row2_col7\" class=\"data row2 col7\" >0</td>\n",
       "      <td id=\"T_cb975_row2_col8\" class=\"data row2 col8\" >STON/O2. 3101282</td>\n",
       "      <td id=\"T_cb975_row2_col9\" class=\"data row2 col9\" >7.925000</td>\n",
       "      <td id=\"T_cb975_row2_col10\" class=\"data row2 col10\" >nan</td>\n",
       "      <td id=\"T_cb975_row2_col11\" class=\"data row2 col11\" >S</td>\n",
       "    </tr>\n",
       "    <tr>\n",
       "      <th id=\"T_cb975_level0_row3\" class=\"row_heading level0 row3\" >3</th>\n",
       "      <td id=\"T_cb975_row3_col0\" class=\"data row3 col0\" >4</td>\n",
       "      <td id=\"T_cb975_row3_col1\" class=\"data row3 col1\" >1</td>\n",
       "      <td id=\"T_cb975_row3_col2\" class=\"data row3 col2\" >1</td>\n",
       "      <td id=\"T_cb975_row3_col3\" class=\"data row3 col3\" >Futrelle, Mrs. Jacques Heath (Lily May Peel)</td>\n",
       "      <td id=\"T_cb975_row3_col4\" class=\"data row3 col4\" >female</td>\n",
       "      <td id=\"T_cb975_row3_col5\" class=\"data row3 col5\" >35.000000</td>\n",
       "      <td id=\"T_cb975_row3_col6\" class=\"data row3 col6\" >1</td>\n",
       "      <td id=\"T_cb975_row3_col7\" class=\"data row3 col7\" >0</td>\n",
       "      <td id=\"T_cb975_row3_col8\" class=\"data row3 col8\" >113803</td>\n",
       "      <td id=\"T_cb975_row3_col9\" class=\"data row3 col9\" >53.100000</td>\n",
       "      <td id=\"T_cb975_row3_col10\" class=\"data row3 col10\" >C123</td>\n",
       "      <td id=\"T_cb975_row3_col11\" class=\"data row3 col11\" >S</td>\n",
       "    </tr>\n",
       "    <tr>\n",
       "      <th id=\"T_cb975_level0_row4\" class=\"row_heading level0 row4\" >4</th>\n",
       "      <td id=\"T_cb975_row4_col0\" class=\"data row4 col0\" >5</td>\n",
       "      <td id=\"T_cb975_row4_col1\" class=\"data row4 col1\" >0</td>\n",
       "      <td id=\"T_cb975_row4_col2\" class=\"data row4 col2\" >3</td>\n",
       "      <td id=\"T_cb975_row4_col3\" class=\"data row4 col3\" >Allen, Mr. William Henry</td>\n",
       "      <td id=\"T_cb975_row4_col4\" class=\"data row4 col4\" >male</td>\n",
       "      <td id=\"T_cb975_row4_col5\" class=\"data row4 col5\" >35.000000</td>\n",
       "      <td id=\"T_cb975_row4_col6\" class=\"data row4 col6\" >0</td>\n",
       "      <td id=\"T_cb975_row4_col7\" class=\"data row4 col7\" >0</td>\n",
       "      <td id=\"T_cb975_row4_col8\" class=\"data row4 col8\" >373450</td>\n",
       "      <td id=\"T_cb975_row4_col9\" class=\"data row4 col9\" >8.050000</td>\n",
       "      <td id=\"T_cb975_row4_col10\" class=\"data row4 col10\" >nan</td>\n",
       "      <td id=\"T_cb975_row4_col11\" class=\"data row4 col11\" >S</td>\n",
       "    </tr>\n",
       "  </tbody>\n",
       "</table>\n"
      ],
      "text/plain": [
       "<pandas.io.formats.style.Styler at 0x2144e34dc00>"
      ]
     },
     "metadata": {},
     "output_type": "display_data"
    },
    {
     "data": {
      "text/html": [
       "<style type=\"text/css\">\n",
       "</style>\n",
       "<table id=\"T_0d368\">\n",
       "  <caption><h2>First 5 rows from Test Dataset</h2></caption>\n",
       "  <thead>\n",
       "    <tr>\n",
       "      <th class=\"blank level0\" >&nbsp;</th>\n",
       "      <th id=\"T_0d368_level0_col0\" class=\"col_heading level0 col0\" >PassengerId</th>\n",
       "      <th id=\"T_0d368_level0_col1\" class=\"col_heading level0 col1\" >Pclass</th>\n",
       "      <th id=\"T_0d368_level0_col2\" class=\"col_heading level0 col2\" >Name</th>\n",
       "      <th id=\"T_0d368_level0_col3\" class=\"col_heading level0 col3\" >Sex</th>\n",
       "      <th id=\"T_0d368_level0_col4\" class=\"col_heading level0 col4\" >Age</th>\n",
       "      <th id=\"T_0d368_level0_col5\" class=\"col_heading level0 col5\" >SibSp</th>\n",
       "      <th id=\"T_0d368_level0_col6\" class=\"col_heading level0 col6\" >Parch</th>\n",
       "      <th id=\"T_0d368_level0_col7\" class=\"col_heading level0 col7\" >Ticket</th>\n",
       "      <th id=\"T_0d368_level0_col8\" class=\"col_heading level0 col8\" >Fare</th>\n",
       "      <th id=\"T_0d368_level0_col9\" class=\"col_heading level0 col9\" >Cabin</th>\n",
       "      <th id=\"T_0d368_level0_col10\" class=\"col_heading level0 col10\" >Embarked</th>\n",
       "    </tr>\n",
       "  </thead>\n",
       "  <tbody>\n",
       "    <tr>\n",
       "      <th id=\"T_0d368_level0_row0\" class=\"row_heading level0 row0\" >0</th>\n",
       "      <td id=\"T_0d368_row0_col0\" class=\"data row0 col0\" >892</td>\n",
       "      <td id=\"T_0d368_row0_col1\" class=\"data row0 col1\" >3</td>\n",
       "      <td id=\"T_0d368_row0_col2\" class=\"data row0 col2\" >Kelly, Mr. James</td>\n",
       "      <td id=\"T_0d368_row0_col3\" class=\"data row0 col3\" >male</td>\n",
       "      <td id=\"T_0d368_row0_col4\" class=\"data row0 col4\" >34.500000</td>\n",
       "      <td id=\"T_0d368_row0_col5\" class=\"data row0 col5\" >0</td>\n",
       "      <td id=\"T_0d368_row0_col6\" class=\"data row0 col6\" >0</td>\n",
       "      <td id=\"T_0d368_row0_col7\" class=\"data row0 col7\" >330911</td>\n",
       "      <td id=\"T_0d368_row0_col8\" class=\"data row0 col8\" >7.829200</td>\n",
       "      <td id=\"T_0d368_row0_col9\" class=\"data row0 col9\" >nan</td>\n",
       "      <td id=\"T_0d368_row0_col10\" class=\"data row0 col10\" >Q</td>\n",
       "    </tr>\n",
       "    <tr>\n",
       "      <th id=\"T_0d368_level0_row1\" class=\"row_heading level0 row1\" >1</th>\n",
       "      <td id=\"T_0d368_row1_col0\" class=\"data row1 col0\" >893</td>\n",
       "      <td id=\"T_0d368_row1_col1\" class=\"data row1 col1\" >3</td>\n",
       "      <td id=\"T_0d368_row1_col2\" class=\"data row1 col2\" >Wilkes, Mrs. James (Ellen Needs)</td>\n",
       "      <td id=\"T_0d368_row1_col3\" class=\"data row1 col3\" >female</td>\n",
       "      <td id=\"T_0d368_row1_col4\" class=\"data row1 col4\" >47.000000</td>\n",
       "      <td id=\"T_0d368_row1_col5\" class=\"data row1 col5\" >1</td>\n",
       "      <td id=\"T_0d368_row1_col6\" class=\"data row1 col6\" >0</td>\n",
       "      <td id=\"T_0d368_row1_col7\" class=\"data row1 col7\" >363272</td>\n",
       "      <td id=\"T_0d368_row1_col8\" class=\"data row1 col8\" >7.000000</td>\n",
       "      <td id=\"T_0d368_row1_col9\" class=\"data row1 col9\" >nan</td>\n",
       "      <td id=\"T_0d368_row1_col10\" class=\"data row1 col10\" >S</td>\n",
       "    </tr>\n",
       "    <tr>\n",
       "      <th id=\"T_0d368_level0_row2\" class=\"row_heading level0 row2\" >2</th>\n",
       "      <td id=\"T_0d368_row2_col0\" class=\"data row2 col0\" >894</td>\n",
       "      <td id=\"T_0d368_row2_col1\" class=\"data row2 col1\" >2</td>\n",
       "      <td id=\"T_0d368_row2_col2\" class=\"data row2 col2\" >Myles, Mr. Thomas Francis</td>\n",
       "      <td id=\"T_0d368_row2_col3\" class=\"data row2 col3\" >male</td>\n",
       "      <td id=\"T_0d368_row2_col4\" class=\"data row2 col4\" >62.000000</td>\n",
       "      <td id=\"T_0d368_row2_col5\" class=\"data row2 col5\" >0</td>\n",
       "      <td id=\"T_0d368_row2_col6\" class=\"data row2 col6\" >0</td>\n",
       "      <td id=\"T_0d368_row2_col7\" class=\"data row2 col7\" >240276</td>\n",
       "      <td id=\"T_0d368_row2_col8\" class=\"data row2 col8\" >9.687500</td>\n",
       "      <td id=\"T_0d368_row2_col9\" class=\"data row2 col9\" >nan</td>\n",
       "      <td id=\"T_0d368_row2_col10\" class=\"data row2 col10\" >Q</td>\n",
       "    </tr>\n",
       "    <tr>\n",
       "      <th id=\"T_0d368_level0_row3\" class=\"row_heading level0 row3\" >3</th>\n",
       "      <td id=\"T_0d368_row3_col0\" class=\"data row3 col0\" >895</td>\n",
       "      <td id=\"T_0d368_row3_col1\" class=\"data row3 col1\" >3</td>\n",
       "      <td id=\"T_0d368_row3_col2\" class=\"data row3 col2\" >Wirz, Mr. Albert</td>\n",
       "      <td id=\"T_0d368_row3_col3\" class=\"data row3 col3\" >male</td>\n",
       "      <td id=\"T_0d368_row3_col4\" class=\"data row3 col4\" >27.000000</td>\n",
       "      <td id=\"T_0d368_row3_col5\" class=\"data row3 col5\" >0</td>\n",
       "      <td id=\"T_0d368_row3_col6\" class=\"data row3 col6\" >0</td>\n",
       "      <td id=\"T_0d368_row3_col7\" class=\"data row3 col7\" >315154</td>\n",
       "      <td id=\"T_0d368_row3_col8\" class=\"data row3 col8\" >8.662500</td>\n",
       "      <td id=\"T_0d368_row3_col9\" class=\"data row3 col9\" >nan</td>\n",
       "      <td id=\"T_0d368_row3_col10\" class=\"data row3 col10\" >S</td>\n",
       "    </tr>\n",
       "    <tr>\n",
       "      <th id=\"T_0d368_level0_row4\" class=\"row_heading level0 row4\" >4</th>\n",
       "      <td id=\"T_0d368_row4_col0\" class=\"data row4 col0\" >896</td>\n",
       "      <td id=\"T_0d368_row4_col1\" class=\"data row4 col1\" >3</td>\n",
       "      <td id=\"T_0d368_row4_col2\" class=\"data row4 col2\" >Hirvonen, Mrs. Alexander (Helga E Lindqvist)</td>\n",
       "      <td id=\"T_0d368_row4_col3\" class=\"data row4 col3\" >female</td>\n",
       "      <td id=\"T_0d368_row4_col4\" class=\"data row4 col4\" >22.000000</td>\n",
       "      <td id=\"T_0d368_row4_col5\" class=\"data row4 col5\" >1</td>\n",
       "      <td id=\"T_0d368_row4_col6\" class=\"data row4 col6\" >1</td>\n",
       "      <td id=\"T_0d368_row4_col7\" class=\"data row4 col7\" >3101298</td>\n",
       "      <td id=\"T_0d368_row4_col8\" class=\"data row4 col8\" >12.287500</td>\n",
       "      <td id=\"T_0d368_row4_col9\" class=\"data row4 col9\" >nan</td>\n",
       "      <td id=\"T_0d368_row4_col10\" class=\"data row4 col10\" >S</td>\n",
       "    </tr>\n",
       "  </tbody>\n",
       "</table>\n"
      ],
      "text/plain": [
       "<pandas.io.formats.style.Styler at 0x2144e34dc00>"
      ]
     },
     "metadata": {},
     "output_type": "display_data"
    }
   ],
   "source": [
    "for dataset in [train,test]:\n",
    "    display(dataset.head(5).style.set_caption(\"<h2>First 5 rows from \"+dataset.name+\"</h2>\"))"
   ]
  },
  {
   "attachments": {},
   "cell_type": "markdown",
   "metadata": {},
   "source": [
    "<h3><li style=\"color: #808000;\">Data information:</li></h3>"
   ]
  },
  {
   "cell_type": "code",
   "execution_count": 46,
   "metadata": {},
   "outputs": [
    {
     "name": "stdout",
     "output_type": "stream",
     "text": [
      "*************** Train Dataset ***************\n",
      "<class 'pandas.core.frame.DataFrame'>\n",
      "RangeIndex: 891 entries, 0 to 890\n",
      "Data columns (total 12 columns):\n",
      " #   Column       Non-Null Count  Dtype  \n",
      "---  ------       --------------  -----  \n",
      " 0   PassengerId  891 non-null    int64  \n",
      " 1   Survived     891 non-null    int64  \n",
      " 2   Pclass       891 non-null    int64  \n",
      " 3   Name         891 non-null    object \n",
      " 4   Sex          891 non-null    object \n",
      " 5   Age          714 non-null    float64\n",
      " 6   SibSp        891 non-null    int64  \n",
      " 7   Parch        891 non-null    int64  \n",
      " 8   Ticket       891 non-null    object \n",
      " 9   Fare         891 non-null    float64\n",
      " 10  Cabin        204 non-null    object \n",
      " 11  Embarked     889 non-null    object \n",
      "dtypes: float64(2), int64(5), object(5)\n",
      "memory usage: 83.7+ KB\n",
      "\n",
      "*************** Test Dataset ***************\n",
      "<class 'pandas.core.frame.DataFrame'>\n",
      "RangeIndex: 418 entries, 0 to 417\n",
      "Data columns (total 11 columns):\n",
      " #   Column       Non-Null Count  Dtype  \n",
      "---  ------       --------------  -----  \n",
      " 0   PassengerId  418 non-null    int64  \n",
      " 1   Pclass       418 non-null    int64  \n",
      " 2   Name         418 non-null    object \n",
      " 3   Sex          418 non-null    object \n",
      " 4   Age          332 non-null    float64\n",
      " 5   SibSp        418 non-null    int64  \n",
      " 6   Parch        418 non-null    int64  \n",
      " 7   Ticket       418 non-null    object \n",
      " 8   Fare         417 non-null    float64\n",
      " 9   Cabin        91 non-null     object \n",
      " 10  Embarked     418 non-null    object \n",
      "dtypes: float64(2), int64(4), object(5)\n",
      "memory usage: 36.0+ KB\n",
      "\n"
     ]
    }
   ],
   "source": [
    "for dataset in [train,test]:\n",
    "    print('*'*15, dataset.name, '*'*15)\n",
    "    dataset.info()\n",
    "    print()"
   ]
  },
  {
   "cell_type": "code",
   "execution_count": 47,
   "metadata": {},
   "outputs": [
    {
     "name": "stdout",
     "output_type": "stream",
     "text": [
      "************************* Train Dataset *************************\n",
      "The shape of our data is:  (891, 12)\n",
      "Features:  ['PassengerId' 'Survived' 'Pclass' 'Name' 'Sex' 'Age' 'SibSp' 'Parch'\n",
      " 'Ticket' 'Fare' 'Cabin' 'Embarked']\n",
      "The number of duplicated valeus:  0\n",
      "The total number of missing valeus:  866\n",
      "The number of missing values in each column:\n"
     ]
    },
    {
     "data": {
      "text/html": [
       "<div>\n",
       "<style scoped>\n",
       "    .dataframe tbody tr th:only-of-type {\n",
       "        vertical-align: middle;\n",
       "    }\n",
       "\n",
       "    .dataframe tbody tr th {\n",
       "        vertical-align: top;\n",
       "    }\n",
       "\n",
       "    .dataframe thead th {\n",
       "        text-align: right;\n",
       "    }\n",
       "</style>\n",
       "<table border=\"1\" class=\"dataframe\">\n",
       "  <thead>\n",
       "    <tr style=\"text-align: right;\">\n",
       "      <th></th>\n",
       "      <th>Null Count</th>\n",
       "      <th>percent</th>\n",
       "    </tr>\n",
       "    <tr>\n",
       "      <th>Feature</th>\n",
       "      <th></th>\n",
       "      <th></th>\n",
       "    </tr>\n",
       "  </thead>\n",
       "  <tbody>\n",
       "    <tr>\n",
       "      <th>Cabin</th>\n",
       "      <td>687</td>\n",
       "      <td>0.771044</td>\n",
       "    </tr>\n",
       "    <tr>\n",
       "      <th>Age</th>\n",
       "      <td>177</td>\n",
       "      <td>0.198653</td>\n",
       "    </tr>\n",
       "    <tr>\n",
       "      <th>Embarked</th>\n",
       "      <td>2</td>\n",
       "      <td>0.002245</td>\n",
       "    </tr>\n",
       "  </tbody>\n",
       "</table>\n",
       "</div>"
      ],
      "text/plain": [
       "          Null Count   percent\n",
       "Feature                       \n",
       "Cabin            687  0.771044\n",
       "Age              177  0.198653\n",
       "Embarked           2  0.002245"
      ]
     },
     "metadata": {},
     "output_type": "display_data"
    },
    {
     "name": "stdout",
     "output_type": "stream",
     "text": [
      "************************* Test Dataset *************************\n",
      "The shape of our data is:  (418, 11)\n",
      "Features:  ['PassengerId' 'Pclass' 'Name' 'Sex' 'Age' 'SibSp' 'Parch' 'Ticket' 'Fare'\n",
      " 'Cabin' 'Embarked']\n",
      "The number of duplicated valeus:  0\n",
      "The total number of missing valeus:  414\n",
      "The number of missing values in each column:\n"
     ]
    },
    {
     "data": {
      "text/html": [
       "<div>\n",
       "<style scoped>\n",
       "    .dataframe tbody tr th:only-of-type {\n",
       "        vertical-align: middle;\n",
       "    }\n",
       "\n",
       "    .dataframe tbody tr th {\n",
       "        vertical-align: top;\n",
       "    }\n",
       "\n",
       "    .dataframe thead th {\n",
       "        text-align: right;\n",
       "    }\n",
       "</style>\n",
       "<table border=\"1\" class=\"dataframe\">\n",
       "  <thead>\n",
       "    <tr style=\"text-align: right;\">\n",
       "      <th></th>\n",
       "      <th>Null Count</th>\n",
       "      <th>percent</th>\n",
       "    </tr>\n",
       "    <tr>\n",
       "      <th>Feature</th>\n",
       "      <th></th>\n",
       "      <th></th>\n",
       "    </tr>\n",
       "  </thead>\n",
       "  <tbody>\n",
       "    <tr>\n",
       "      <th>Cabin</th>\n",
       "      <td>327</td>\n",
       "      <td>0.782297</td>\n",
       "    </tr>\n",
       "    <tr>\n",
       "      <th>Age</th>\n",
       "      <td>86</td>\n",
       "      <td>0.205742</td>\n",
       "    </tr>\n",
       "    <tr>\n",
       "      <th>Fare</th>\n",
       "      <td>1</td>\n",
       "      <td>0.002392</td>\n",
       "    </tr>\n",
       "  </tbody>\n",
       "</table>\n",
       "</div>"
      ],
      "text/plain": [
       "         Null Count   percent\n",
       "Feature                      \n",
       "Cabin           327  0.782297\n",
       "Age              86  0.205742\n",
       "Fare              1  0.002392"
      ]
     },
     "metadata": {},
     "output_type": "display_data"
    }
   ],
   "source": [
    "for dataset in [train,test]:\n",
    "    print('*'*25, dataset.name, '*'*25)\n",
    "    print(\"The shape of our data is: \", dataset.shape)\n",
    "    print('Features: ', dataset.columns.values)\n",
    "    print('The number of duplicated valeus: ',dataset.duplicated().sum())\n",
    "    print('The total number of missing valeus: ',sum(dataset.isnull().sum()))\n",
    "    print('The number of missing values in each column:')\n",
    "    nulls = pd.DataFrame(dataset.isnull().sum().sort_values(ascending=False))\n",
    "    nulls.columns = ['Null Count']\n",
    "    nulls.index.name = 'Feature'\n",
    "    nulls['percent'] = nulls['Null Count']/dataset['PassengerId'].count()\n",
    "    nulls = nulls[nulls['Null Count']!=0]\n",
    "    display(nulls)"
   ]
  },
  {
   "attachments": {},
   "cell_type": "markdown",
   "metadata": {},
   "source": [
    "Let's plot the number of servivers:"
   ]
  },
  {
   "cell_type": "code",
   "execution_count": 48,
   "metadata": {},
   "outputs": [
    {
     "data": {
      "text/plain": [
       "<AxesSubplot: xlabel='Survived', ylabel='count'>"
      ]
     },
     "execution_count": 48,
     "metadata": {},
     "output_type": "execute_result"
    },
    {
     "data": {
      "image/png": "[encoded data removed]",
      "text/plain": [
       "<Figure size 640x480 with 1 Axes>"
      ]
     },
     "metadata": {},
     "output_type": "display_data"
    }
   ],
   "source": [
    "sns.countplot(data=train,x='Survived')"
   ]
  },
  {
   "attachments": {},
   "cell_type": "markdown",
   "metadata": {},
   "source": [
    "Let's have a look on correlations:"
   ]
  },
  {
   "cell_type": "code",
   "execution_count": 49,
   "metadata": {},
   "outputs": [
    {
     "data": {
      "text/plain": [
       "Survived       1.000000\n",
       "Fare           0.257307\n",
       "Parch          0.081629\n",
       "PassengerId   -0.005007\n",
       "SibSp         -0.035322\n",
       "Age           -0.077221\n",
       "Pclass        -0.338481\n",
       "Name: Survived, dtype: float64"
      ]
     },
     "execution_count": 49,
     "metadata": {},
     "output_type": "execute_result"
    }
   ],
   "source": [
    "corr = train.corr()\n",
    "corr[\"Survived\"].sort_values(ascending=False)"
   ]
  },
  {
   "attachments": {},
   "cell_type": "markdown",
   "metadata": {},
   "source": [
    "And let's have a look in the percent of serviving fpr each class:"
   ]
  },
  {
   "cell_type": "code",
   "execution_count": 50,
   "metadata": {},
   "outputs": [
    {
     "name": "stdout",
     "output_type": "stream",
     "text": [
      "        Survived\n",
      "Pclass          \n",
      "1       0.629630\n",
      "2       0.472826\n",
      "3       0.242363\n",
      "\n",
      "        Survived\n",
      "Sex             \n",
      "female  0.742038\n",
      "male    0.188908\n",
      "\n",
      "       Survived\n",
      "SibSp          \n",
      "1      0.535885\n",
      "2      0.464286\n",
      "0      0.345395\n",
      "3      0.250000\n",
      "4      0.166667\n",
      "5      0.000000\n",
      "8      0.000000\n",
      "\n",
      "       Survived\n",
      "Parch          \n",
      "3      0.600000\n",
      "1      0.550847\n",
      "2      0.500000\n",
      "0      0.343658\n",
      "5      0.200000\n",
      "4      0.000000\n",
      "6      0.000000\n",
      "\n",
      "          Survived\n",
      "Embarked          \n",
      "C         0.553571\n",
      "Q         0.389610\n",
      "S         0.336957\n",
      "\n"
     ]
    }
   ],
   "source": [
    "for feature in (\"Pclass\", \"Sex\", \"SibSp\", \"Parch\", \"Embarked\"):\n",
    "    print(train[[\"Survived\", feature]].groupby([feature]).mean().sort_values(by=\"Survived\", ascending=False))\n",
    "    print()"
   ]
  },
  {
   "attachments": {},
   "cell_type": "markdown",
   "metadata": {},
   "source": [
    "Last thing to see is the percents of values of each column, that's my help us after:"
   ]
  },
  {
   "cell_type": "code",
   "execution_count": 51,
   "metadata": {},
   "outputs": [
    {
     "name": "stdout",
     "output_type": "stream",
     "text": [
      "0    61.62 %\n",
      "1    38.38 %\n",
      "Name: Survived, dtype: object\n",
      "\n",
      "3    55.11 %\n",
      "1    24.24 %\n",
      "2    20.65 %\n",
      "Name: Pclass, dtype: object\n",
      "\n",
      "male      64.76 %\n",
      "female    35.24 %\n",
      "Name: Sex, dtype: object\n",
      "\n",
      "0    68.24 %\n",
      "1    23.46 %\n",
      "2     3.14 %\n",
      "4     2.02 %\n",
      "3      1.8 %\n",
      "8     0.79 %\n",
      "5     0.56 %\n",
      "Name: SibSp, dtype: object\n",
      "\n",
      "0    76.09 %\n",
      "1    13.24 %\n",
      "2     8.98 %\n",
      "5     0.56 %\n",
      "3     0.56 %\n",
      "4     0.45 %\n",
      "6     0.11 %\n",
      "Name: Parch, dtype: object\n",
      "\n",
      "B96 B98        1.96 %\n",
      "G6             1.96 %\n",
      "C23 C25 C27    1.96 %\n",
      "C22 C26        1.47 %\n",
      "F33            1.47 %\n",
      "                ...  \n",
      "E34            0.49 %\n",
      "C7             0.49 %\n",
      "C54            0.49 %\n",
      "E36            0.49 %\n",
      "C148           0.49 %\n",
      "Name: Cabin, Length: 147, dtype: object\n",
      "\n",
      "S    72.44 %\n",
      "C     18.9 %\n",
      "Q     8.66 %\n",
      "Name: Embarked, dtype: object\n",
      "\n"
     ]
    }
   ],
   "source": [
    "for feature in train.drop(['PassengerId','Name','Age','Fare','Ticket'],axis=1).columns.values:\n",
    "    print((train[feature].value_counts(normalize=True) * 100).round(2).astype(str) + \" %\" )\n",
    "    print()"
   ]
  },
  {
   "attachments": {},
   "cell_type": "markdown",
   "metadata": {},
   "source": [
    "<p>\n",
    "From those inforomation, notice that:<br>\n",
    "<ul>\n",
    " <li>More then 60% of passengers didn't servived;</li>\n",
    " <br>\n",
    " <li>The Name column is more complexe, we can't work with like that;</li>\n",
    " <br>\n",
    " <li>The available features have following types:\n",
    "  <ul>\n",
    "   <li>Numerical - Age, Fare, SibSp, Parch</li>\n",
    "   <li>Categorical - Survived, Pclass, Sex, Embarked</li>\n",
    "   <li>Mixed - Ticket, Cabin;</li>\n",
    "  </ul>\n",
    " </li>\n",
    " <br>\n",
    " <li>Our data is relatively clean with most columns not having null values except for the Cabin, Age, Embarked, and Fare columns;</li>\n",
    " <br>\n",
    " <li>The correlation shows that:\n",
    "  <ul>\n",
    "   <li>The PClass column has highest negative correlation, namely because the lowest class hosted large amount of people and is least favoured to be saved in the incident due to lower privelages from the upper deck.</li>\n",
    "   <li>Fare has the highest positive correlation. This makes sense, since a higher fare equates to a better class and cabin.</li>\n",
    "  </ul>\n",
    " </li>\n",
    " <br>\n",
    " <li>There is a unique ticket for each passenger, it gives no info that can helps in predictions. So, we'll delete it</li>\n",
    " </ul>\n",
    "</p>"
   ]
  },
  {
   "attachments": {},
   "cell_type": "markdown",
   "metadata": {},
   "source": [
    "<h2 style=\"color: #800000;\">3- Feature Engineering</h2>"
   ]
  },
  {
   "attachments": {},
   "cell_type": "markdown",
   "metadata": {},
   "source": [
    "Befor starting this part, it's better to work with a copy of the data for the case we break something down:"
   ]
  },
  {
   "cell_type": "code",
   "execution_count": 52,
   "metadata": {},
   "outputs": [],
   "source": [
    "train_copy = train.copy()\n",
    "test_copy = test.copy()"
   ]
  },
  {
   "attachments": {},
   "cell_type": "markdown",
   "metadata": {},
   "source": [
    "Let's create a `Age Bucket` for different ranges of `Age`:"
   ]
  },
  {
   "cell_type": "code",
   "execution_count": 53,
   "metadata": {},
   "outputs": [
    {
     "data": {
      "text/html": [
       "<div>\n",
       "<style scoped>\n",
       "    .dataframe tbody tr th:only-of-type {\n",
       "        vertical-align: middle;\n",
       "    }\n",
       "\n",
       "    .dataframe tbody tr th {\n",
       "        vertical-align: top;\n",
       "    }\n",
       "\n",
       "    .dataframe thead th {\n",
       "        text-align: right;\n",
       "    }\n",
       "</style>\n",
       "<table border=\"1\" class=\"dataframe\">\n",
       "  <thead>\n",
       "    <tr style=\"text-align: right;\">\n",
       "      <th></th>\n",
       "      <th>Survived</th>\n",
       "    </tr>\n",
       "    <tr>\n",
       "      <th>AgeBucket</th>\n",
       "      <th></th>\n",
       "    </tr>\n",
       "  </thead>\n",
       "  <tbody>\n",
       "    <tr>\n",
       "      <th>(0.34, 13.683]</th>\n",
       "      <td>0.591549</td>\n",
       "    </tr>\n",
       "    <tr>\n",
       "      <th>(13.683, 26.947]</th>\n",
       "      <td>0.354839</td>\n",
       "    </tr>\n",
       "    <tr>\n",
       "      <th>(26.947, 40.21]</th>\n",
       "      <td>0.428571</td>\n",
       "    </tr>\n",
       "    <tr>\n",
       "      <th>(40.21, 53.473]</th>\n",
       "      <td>0.390000</td>\n",
       "    </tr>\n",
       "    <tr>\n",
       "      <th>(53.473, 66.737]</th>\n",
       "      <td>0.348837</td>\n",
       "    </tr>\n",
       "    <tr>\n",
       "      <th>(66.737, 80.0]</th>\n",
       "      <td>0.142857</td>\n",
       "    </tr>\n",
       "  </tbody>\n",
       "</table>\n",
       "</div>"
      ],
      "text/plain": [
       "                  Survived\n",
       "AgeBucket                 \n",
       "(0.34, 13.683]    0.591549\n",
       "(13.683, 26.947]  0.354839\n",
       "(26.947, 40.21]   0.428571\n",
       "(40.21, 53.473]   0.390000\n",
       "(53.473, 66.737]  0.348837\n",
       "(66.737, 80.0]    0.142857"
      ]
     },
     "execution_count": 53,
     "metadata": {},
     "output_type": "execute_result"
    }
   ],
   "source": [
    "train_copy[\"AgeBucket\"] = pd.cut(train_copy[\"Age\"], 6)\n",
    "train_copy[[\"AgeBucket\", \"Survived\"]].groupby([\"AgeBucket\"]).mean().sort_values(by=\"AgeBucket\")"
   ]
  },
  {
   "cell_type": "code",
   "execution_count": 54,
   "metadata": {},
   "outputs": [],
   "source": [
    "train_copy[\"AgeBucket\"] = pd.cut(train_copy[\"Age\"], 6, labels=[1, 2, 3, 4, 5, 6])"
   ]
  },
  {
   "attachments": {},
   "cell_type": "markdown",
   "metadata": {},
   "source": [
    "Similarly, let's make a `Fare Bucket`:"
   ]
  },
  {
   "cell_type": "code",
   "execution_count": 55,
   "metadata": {},
   "outputs": [
    {
     "data": {
      "text/html": [
       "<div>\n",
       "<style scoped>\n",
       "    .dataframe tbody tr th:only-of-type {\n",
       "        vertical-align: middle;\n",
       "    }\n",
       "\n",
       "    .dataframe tbody tr th {\n",
       "        vertical-align: top;\n",
       "    }\n",
       "\n",
       "    .dataframe thead th {\n",
       "        text-align: right;\n",
       "    }\n",
       "</style>\n",
       "<table border=\"1\" class=\"dataframe\">\n",
       "  <thead>\n",
       "    <tr style=\"text-align: right;\">\n",
       "      <th></th>\n",
       "      <th>Survived</th>\n",
       "    </tr>\n",
       "    <tr>\n",
       "      <th>FareBucket</th>\n",
       "      <th></th>\n",
       "    </tr>\n",
       "  </thead>\n",
       "  <tbody>\n",
       "    <tr>\n",
       "      <th>(-0.512, 51.233]</th>\n",
       "      <td>0.318306</td>\n",
       "    </tr>\n",
       "    <tr>\n",
       "      <th>(51.233, 102.466]</th>\n",
       "      <td>0.660377</td>\n",
       "    </tr>\n",
       "    <tr>\n",
       "      <th>(102.466, 153.699]</th>\n",
       "      <td>0.741935</td>\n",
       "    </tr>\n",
       "    <tr>\n",
       "      <th>(153.699, 204.932]</th>\n",
       "      <td>1.000000</td>\n",
       "    </tr>\n",
       "    <tr>\n",
       "      <th>(204.932, 256.165]</th>\n",
       "      <td>0.636364</td>\n",
       "    </tr>\n",
       "    <tr>\n",
       "      <th>(256.165, 307.398]</th>\n",
       "      <td>0.666667</td>\n",
       "    </tr>\n",
       "    <tr>\n",
       "      <th>(307.398, 358.63]</th>\n",
       "      <td>NaN</td>\n",
       "    </tr>\n",
       "    <tr>\n",
       "      <th>(358.63, 409.863]</th>\n",
       "      <td>NaN</td>\n",
       "    </tr>\n",
       "    <tr>\n",
       "      <th>(409.863, 461.096]</th>\n",
       "      <td>NaN</td>\n",
       "    </tr>\n",
       "    <tr>\n",
       "      <th>(461.096, 512.329]</th>\n",
       "      <td>1.000000</td>\n",
       "    </tr>\n",
       "  </tbody>\n",
       "</table>\n",
       "</div>"
      ],
      "text/plain": [
       "                    Survived\n",
       "FareBucket                  \n",
       "(-0.512, 51.233]    0.318306\n",
       "(51.233, 102.466]   0.660377\n",
       "(102.466, 153.699]  0.741935\n",
       "(153.699, 204.932]  1.000000\n",
       "(204.932, 256.165]  0.636364\n",
       "(256.165, 307.398]  0.666667\n",
       "(307.398, 358.63]        NaN\n",
       "(358.63, 409.863]        NaN\n",
       "(409.863, 461.096]       NaN\n",
       "(461.096, 512.329]  1.000000"
      ]
     },
     "execution_count": 55,
     "metadata": {},
     "output_type": "execute_result"
    }
   ],
   "source": [
    "train_copy[\"FareBucket\"] = pd.cut(train_copy[\"Fare\"], 10)\n",
    "train_copy[[\"FareBucket\", \"Survived\"]].groupby([\"FareBucket\"]).mean().sort_values(by=\"FareBucket\")"
   ]
  },
  {
   "cell_type": "code",
   "execution_count": 56,
   "metadata": {},
   "outputs": [],
   "source": [
    "train_copy[\"FareBucket\"] = pd.cut(train_copy[\"Fare\"], 10, labels=[1, 2, 3, 4, 5, 6, 7, 8, 9, 10])"
   ]
  },
  {
   "attachments": {},
   "cell_type": "markdown",
   "metadata": {},
   "source": [
    "Make a `Relatives Bucket`, this will help to create a new feature - `IsAlone` (indicating if the passenger was alone or had a family)"
   ]
  },
  {
   "cell_type": "code",
   "execution_count": 57,
   "metadata": {},
   "outputs": [
    {
     "data": {
      "text/html": [
       "<div>\n",
       "<style scoped>\n",
       "    .dataframe tbody tr th:only-of-type {\n",
       "        vertical-align: middle;\n",
       "    }\n",
       "\n",
       "    .dataframe tbody tr th {\n",
       "        vertical-align: top;\n",
       "    }\n",
       "\n",
       "    .dataframe thead th {\n",
       "        text-align: right;\n",
       "    }\n",
       "</style>\n",
       "<table border=\"1\" class=\"dataframe\">\n",
       "  <thead>\n",
       "    <tr style=\"text-align: right;\">\n",
       "      <th></th>\n",
       "      <th>Survived</th>\n",
       "    </tr>\n",
       "    <tr>\n",
       "      <th>RelativesBucket</th>\n",
       "      <th></th>\n",
       "    </tr>\n",
       "  </thead>\n",
       "  <tbody>\n",
       "    <tr>\n",
       "      <th>0</th>\n",
       "      <td>0.303538</td>\n",
       "    </tr>\n",
       "    <tr>\n",
       "      <th>1</th>\n",
       "      <td>0.552795</td>\n",
       "    </tr>\n",
       "    <tr>\n",
       "      <th>2</th>\n",
       "      <td>0.578431</td>\n",
       "    </tr>\n",
       "    <tr>\n",
       "      <th>3</th>\n",
       "      <td>0.724138</td>\n",
       "    </tr>\n",
       "    <tr>\n",
       "      <th>4</th>\n",
       "      <td>0.200000</td>\n",
       "    </tr>\n",
       "    <tr>\n",
       "      <th>5</th>\n",
       "      <td>0.136364</td>\n",
       "    </tr>\n",
       "    <tr>\n",
       "      <th>6</th>\n",
       "      <td>0.333333</td>\n",
       "    </tr>\n",
       "    <tr>\n",
       "      <th>7</th>\n",
       "      <td>0.000000</td>\n",
       "    </tr>\n",
       "    <tr>\n",
       "      <th>10</th>\n",
       "      <td>0.000000</td>\n",
       "    </tr>\n",
       "  </tbody>\n",
       "</table>\n",
       "</div>"
      ],
      "text/plain": [
       "                 Survived\n",
       "RelativesBucket          \n",
       "0                0.303538\n",
       "1                0.552795\n",
       "2                0.578431\n",
       "3                0.724138\n",
       "4                0.200000\n",
       "5                0.136364\n",
       "6                0.333333\n",
       "7                0.000000\n",
       "10               0.000000"
      ]
     },
     "execution_count": 57,
     "metadata": {},
     "output_type": "execute_result"
    }
   ],
   "source": [
    "train_copy[\"RelativesBucket\"] = train_copy[\"SibSp\"] + train_copy[\"Parch\"]\n",
    "train_copy[[\"RelativesBucket\", \"Survived\"]].groupby([\"RelativesBucket\"]).mean().sort_values(by=\"RelativesBucket\")"
   ]
  },
  {
   "cell_type": "code",
   "execution_count": 58,
   "metadata": {},
   "outputs": [
    {
     "data": {
      "text/html": [
       "<div>\n",
       "<style scoped>\n",
       "    .dataframe tbody tr th:only-of-type {\n",
       "        vertical-align: middle;\n",
       "    }\n",
       "\n",
       "    .dataframe tbody tr th {\n",
       "        vertical-align: top;\n",
       "    }\n",
       "\n",
       "    .dataframe thead th {\n",
       "        text-align: right;\n",
       "    }\n",
       "</style>\n",
       "<table border=\"1\" class=\"dataframe\">\n",
       "  <thead>\n",
       "    <tr style=\"text-align: right;\">\n",
       "      <th></th>\n",
       "      <th>Survived</th>\n",
       "    </tr>\n",
       "    <tr>\n",
       "      <th>IsAlone</th>\n",
       "      <th></th>\n",
       "    </tr>\n",
       "  </thead>\n",
       "  <tbody>\n",
       "    <tr>\n",
       "      <th>0</th>\n",
       "      <td>0.505650</td>\n",
       "    </tr>\n",
       "    <tr>\n",
       "      <th>1</th>\n",
       "      <td>0.303538</td>\n",
       "    </tr>\n",
       "  </tbody>\n",
       "</table>\n",
       "</div>"
      ],
      "text/plain": [
       "         Survived\n",
       "IsAlone          \n",
       "0        0.505650\n",
       "1        0.303538"
      ]
     },
     "execution_count": 58,
     "metadata": {},
     "output_type": "execute_result"
    }
   ],
   "source": [
    "train_copy[\"IsAlone\"] = (train_copy[\"RelativesBucket\"] == 0).astype(int)\n",
    "train_copy[[\"IsAlone\", \"Survived\"]].groupby([\"IsAlone\"]).mean().sort_values(by=\"IsAlone\")"
   ]
  },
  {
   "attachments": {},
   "cell_type": "markdown",
   "metadata": {},
   "source": [
    "We can use the `Name` feature for extracting titles of passengers, due to the Name feature has a lot of unique values:"
   ]
  },
  {
   "cell_type": "code",
   "execution_count": 59,
   "metadata": {},
   "outputs": [
    {
     "data": {
      "text/plain": [
       "Mr          517\n",
       "Miss        182\n",
       "Mrs         125\n",
       "Master       40\n",
       "Dr            7\n",
       "Rev           6\n",
       "Mlle          2\n",
       "Major         2\n",
       "Col           2\n",
       "Countess      1\n",
       "Capt          1\n",
       "Ms            1\n",
       "Sir           1\n",
       "Lady          1\n",
       "Mme           1\n",
       "Don           1\n",
       "Jonkheer      1\n",
       "Name: Title, dtype: int64"
      ]
     },
     "execution_count": 59,
     "metadata": {},
     "output_type": "execute_result"
    }
   ],
   "source": [
    "train_copy[\"Title\"] = train_copy[\"Name\"].str.extract(\" ([A-Za-z]+)\\.\")\n",
    "train_copy[\"Title\"].value_counts()"
   ]
  },
  {
   "attachments": {},
   "cell_type": "markdown",
   "metadata": {},
   "source": [
    "Replace uniqe titles with \"Unique\":"
   ]
  },
  {
   "cell_type": "code",
   "execution_count": 60,
   "metadata": {},
   "outputs": [
    {
     "data": {
      "text/plain": [
       "Mr        517\n",
       "Miss      182\n",
       "Mrs       125\n",
       "Master     40\n",
       "Unique     27\n",
       "Name: Title, dtype: int64"
      ]
     },
     "execution_count": 60,
     "metadata": {},
     "output_type": "execute_result"
    }
   ],
   "source": [
    "unique_titles = set(train_copy[\"Title\"]).difference({\"Mr\", \"Miss\", \"Mrs\", \"Master\"})\n",
    "train_copy[\"Title\"] = train_copy[\"Title\"].replace(unique_titles, \"Unique\")\n",
    "train_copy[\"Title\"].value_counts()"
   ]
  },
  {
   "cell_type": "code",
   "execution_count": 61,
   "metadata": {},
   "outputs": [
    {
     "data": {
      "text/html": [
       "<div>\n",
       "<style scoped>\n",
       "    .dataframe tbody tr th:only-of-type {\n",
       "        vertical-align: middle;\n",
       "    }\n",
       "\n",
       "    .dataframe tbody tr th {\n",
       "        vertical-align: top;\n",
       "    }\n",
       "\n",
       "    .dataframe thead th {\n",
       "        text-align: right;\n",
       "    }\n",
       "</style>\n",
       "<table border=\"1\" class=\"dataframe\">\n",
       "  <thead>\n",
       "    <tr style=\"text-align: right;\">\n",
       "      <th></th>\n",
       "      <th>Survived</th>\n",
       "    </tr>\n",
       "    <tr>\n",
       "      <th>Title</th>\n",
       "      <th></th>\n",
       "    </tr>\n",
       "  </thead>\n",
       "  <tbody>\n",
       "    <tr>\n",
       "      <th>Master</th>\n",
       "      <td>0.575000</td>\n",
       "    </tr>\n",
       "    <tr>\n",
       "      <th>Miss</th>\n",
       "      <td>0.697802</td>\n",
       "    </tr>\n",
       "    <tr>\n",
       "      <th>Mr</th>\n",
       "      <td>0.156673</td>\n",
       "    </tr>\n",
       "    <tr>\n",
       "      <th>Mrs</th>\n",
       "      <td>0.792000</td>\n",
       "    </tr>\n",
       "    <tr>\n",
       "      <th>Unique</th>\n",
       "      <td>0.444444</td>\n",
       "    </tr>\n",
       "  </tbody>\n",
       "</table>\n",
       "</div>"
      ],
      "text/plain": [
       "        Survived\n",
       "Title           \n",
       "Master  0.575000\n",
       "Miss    0.697802\n",
       "Mr      0.156673\n",
       "Mrs     0.792000\n",
       "Unique  0.444444"
      ]
     },
     "execution_count": 61,
     "metadata": {},
     "output_type": "execute_result"
    }
   ],
   "source": [
    "train_copy[[\"Title\", \"Survived\"]].groupby([\"Title\"]).mean().sort_values(by=\"Title\")"
   ]
  },
  {
   "attachments": {},
   "cell_type": "markdown",
   "metadata": {},
   "source": [
    "<h2 style=\"color: #800000;\">4- Preprocessing</h2>"
   ]
  },
  {
   "attachments": {},
   "cell_type": "markdown",
   "metadata": {},
   "source": [
    "This class we'll contains all previous steps and some other steps, so we can preprocessing the data easly:"
   ]
  },
  {
   "cell_type": "code",
   "execution_count": 62,
   "metadata": {},
   "outputs": [],
   "source": [
    "class AttributeImputer(BaseEstimator, TransformerMixin):\n",
    "    def __init__(self, add_age_bucket=True, add_fare_bucket=True, add_is_alone=True, add_title=True,\n",
    "                remove_cabin=True, remove_ticket=True):\n",
    "        self.add_age_bucket = add_age_bucket\n",
    "        self.add_fare_bucket = add_fare_bucket\n",
    "        self.add_is_alone = add_is_alone\n",
    "        self.add_title = add_title\n",
    "        self.remove_cabin = remove_cabin\n",
    "        self.remove_ticket = remove_ticket\n",
    "    \n",
    "    def fit(self, X, y=None):\n",
    "        self.age_median = X[\"Age\"].median()\n",
    "        self.fare_median = X[\"Fare\"].median()\n",
    "        self.most_frequent_embark = X[\"Embarked\"].value_counts().index[0]\n",
    "        return self\n",
    "\n",
    "    def transform(self, X):\n",
    "        X[\"Age\"] = X[\"Age\"].fillna(self.age_median)\n",
    "        X[\"Fare\"] = X[\"Fare\"].fillna(self.fare_median)\n",
    "        X[\"Embarked\"] = X[\"Embarked\"].fillna(self.most_frequent_embark)\n",
    "        if self.add_age_bucket:\n",
    "            X[\"AgeBucket\"] = pd.cut(X[\"Age\"], 5, labels=[1, 2, 3, 4, 5])\n",
    "            X.drop([\"Age\"], axis=1, inplace=True)\n",
    "        if self.add_fare_bucket:\n",
    "            X[\"FareBucket\"] = pd.cut(X[\"Fare\"], 5, labels=[1, 2, 3, 4, 5])\n",
    "            X.drop([\"Fare\"], axis=1, inplace=True)\n",
    "        if self.add_is_alone:\n",
    "            X[\"IsAlone\"] = (X[\"SibSp\"] + X[\"Parch\"] == 0).astype(int)\n",
    "            X.drop([\"SibSp\", \"Parch\"], axis=1, inplace=True)\n",
    "        if self.add_title:\n",
    "            X[\"Title\"] = X[\"Name\"].str.extract(\" ([A-Za-z]+)\\.\")\n",
    "            unique_titles = set(X[\"Title\"]).difference({\"Mr\", \"Miss\", \"Mrs\", \"Master\"})\n",
    "            X[\"Title\"] = train_copy[\"Title\"].replace(unique_titles, \"Unique\")\n",
    "            X.drop([\"Name\"], axis=1, inplace=True)\n",
    "        if self.remove_cabin:\n",
    "            X.drop([\"Cabin\"], axis=1, inplace=True)\n",
    "        if self.remove_ticket:\n",
    "            X.drop([\"Ticket\"], axis=1, inplace=True)\n",
    "        return X"
   ]
  },
  {
   "attachments": {},
   "cell_type": "markdown",
   "metadata": {},
   "source": [
    "<h3><li style=\"color: #808000;\">Preprocessing the Train Data:</li></h3>"
   ]
  },
  {
   "cell_type": "code",
   "execution_count": 63,
   "metadata": {},
   "outputs": [
    {
     "data": {
      "text/html": [
       "<div>\n",
       "<style scoped>\n",
       "    .dataframe tbody tr th:only-of-type {\n",
       "        vertical-align: middle;\n",
       "    }\n",
       "\n",
       "    .dataframe tbody tr th {\n",
       "        vertical-align: top;\n",
       "    }\n",
       "\n",
       "    .dataframe thead th {\n",
       "        text-align: right;\n",
       "    }\n",
       "</style>\n",
       "<table border=\"1\" class=\"dataframe\">\n",
       "  <thead>\n",
       "    <tr style=\"text-align: right;\">\n",
       "      <th></th>\n",
       "      <th>PassengerId</th>\n",
       "      <th>Survived</th>\n",
       "      <th>Pclass</th>\n",
       "      <th>Sex</th>\n",
       "      <th>Embarked</th>\n",
       "      <th>AgeBucket</th>\n",
       "      <th>FareBucket</th>\n",
       "      <th>IsAlone</th>\n",
       "      <th>Title</th>\n",
       "    </tr>\n",
       "  </thead>\n",
       "  <tbody>\n",
       "    <tr>\n",
       "      <th>0</th>\n",
       "      <td>1</td>\n",
       "      <td>0</td>\n",
       "      <td>3</td>\n",
       "      <td>male</td>\n",
       "      <td>S</td>\n",
       "      <td>2</td>\n",
       "      <td>1</td>\n",
       "      <td>0</td>\n",
       "      <td>Mr</td>\n",
       "    </tr>\n",
       "    <tr>\n",
       "      <th>1</th>\n",
       "      <td>2</td>\n",
       "      <td>1</td>\n",
       "      <td>1</td>\n",
       "      <td>female</td>\n",
       "      <td>C</td>\n",
       "      <td>3</td>\n",
       "      <td>1</td>\n",
       "      <td>0</td>\n",
       "      <td>Mrs</td>\n",
       "    </tr>\n",
       "    <tr>\n",
       "      <th>2</th>\n",
       "      <td>3</td>\n",
       "      <td>1</td>\n",
       "      <td>3</td>\n",
       "      <td>female</td>\n",
       "      <td>S</td>\n",
       "      <td>2</td>\n",
       "      <td>1</td>\n",
       "      <td>1</td>\n",
       "      <td>Miss</td>\n",
       "    </tr>\n",
       "    <tr>\n",
       "      <th>3</th>\n",
       "      <td>4</td>\n",
       "      <td>1</td>\n",
       "      <td>1</td>\n",
       "      <td>female</td>\n",
       "      <td>S</td>\n",
       "      <td>3</td>\n",
       "      <td>1</td>\n",
       "      <td>0</td>\n",
       "      <td>Mrs</td>\n",
       "    </tr>\n",
       "    <tr>\n",
       "      <th>4</th>\n",
       "      <td>5</td>\n",
       "      <td>0</td>\n",
       "      <td>3</td>\n",
       "      <td>male</td>\n",
       "      <td>S</td>\n",
       "      <td>3</td>\n",
       "      <td>1</td>\n",
       "      <td>1</td>\n",
       "      <td>Mr</td>\n",
       "    </tr>\n",
       "  </tbody>\n",
       "</table>\n",
       "</div>"
      ],
      "text/plain": [
       "   PassengerId  Survived  Pclass     Sex Embarked AgeBucket FareBucket  \\\n",
       "0            1         0       3    male        S         2          1   \n",
       "1            2         1       1  female        C         3          1   \n",
       "2            3         1       3  female        S         2          1   \n",
       "3            4         1       1  female        S         3          1   \n",
       "4            5         0       3    male        S         3          1   \n",
       "\n",
       "   IsAlone Title  \n",
       "0        0    Mr  \n",
       "1        0   Mrs  \n",
       "2        1  Miss  \n",
       "3        0   Mrs  \n",
       "4        1    Mr  "
      ]
     },
     "execution_count": 63,
     "metadata": {},
     "output_type": "execute_result"
    }
   ],
   "source": [
    "attr_pipeline = Pipeline([\n",
    "    (\"attr_imputer_transformer\", AttributeImputer())\n",
    "])\n",
    "\n",
    "tmp_train = train.copy()\n",
    "tmp_train = attr_pipeline.fit_transform(tmp_train)\n",
    "tmp_train.head()"
   ]
  },
  {
   "attachments": {},
   "cell_type": "markdown",
   "metadata": {},
   "source": [
    "<h3><li style=\"color: #808000;\">Features encoding:</li></h3>"
   ]
  },
  {
   "cell_type": "code",
   "execution_count": 64,
   "metadata": {},
   "outputs": [],
   "source": [
    "cat_pipeline = Pipeline([\n",
    "    (\"cat_encoder\", OneHotEncoder(sparse=False))\n",
    "])\n",
    "\n",
    "cat_pipeline = ColumnTransformer([\n",
    "    (\"cat\", cat_pipeline, [\"Pclass\", \"Sex\", \"Embarked\", \"AgeBucket\", \"FareBucket\", \"IsAlone\", \"Title\"])\n",
    "])\n",
    "\n",
    "preproc_pipeline = Pipeline([\n",
    "    (\"attrs_pipline\", attr_pipeline),\n",
    "    (\"cats_pipeline\", cat_pipeline)\n",
    "])"
   ]
  },
  {
   "cell_type": "code",
   "execution_count": 65,
   "metadata": {},
   "outputs": [],
   "source": [
    "tmp_train = train.copy()\n",
    "tmp_train = tmp_train.set_index(\"PassengerId\")\n",
    "tmp_train_labels = tmp_train[\"Survived\"]\n",
    "tmp_train.drop(\"Survived\", axis=1, inplace=True)\n",
    "tmp_train = preproc_pipeline.fit_transform(tmp_train)"
   ]
  },
  {
   "attachments": {},
   "cell_type": "markdown",
   "metadata": {},
   "source": [
    "<h2 style=\"color: #800000;\">5- Modeling</h2>"
   ]
  },
  {
   "attachments": {},
   "cell_type": "markdown",
   "metadata": {},
   "source": [
    "For this problem, we'll use one of: `RandomForestClassifier`, `SGDClassifier`, `SVC`, `DecisionTreeClassifier`, `LogisticRegression`:"
   ]
  },
  {
   "cell_type": "code",
   "execution_count": 66,
   "metadata": {},
   "outputs": [
    {
     "data": {
      "text/plain": [
       "0.7946566791510611"
      ]
     },
     "execution_count": 66,
     "metadata": {},
     "output_type": "execute_result"
    }
   ],
   "source": [
    "forest_model = RandomForestClassifier(random_state=42)\n",
    "forest_scores = cross_val_score(forest_model, tmp_train, tmp_train_labels, cv=10)\n",
    "forest_scores.mean()"
   ]
  },
  {
   "cell_type": "code",
   "execution_count": 67,
   "metadata": {},
   "outputs": [
    {
     "data": {
      "text/plain": [
       "0.7789388264669163"
      ]
     },
     "execution_count": 67,
     "metadata": {},
     "output_type": "execute_result"
    }
   ],
   "source": [
    "sgd_model = SGDClassifier(random_state=42)\n",
    "sgd_scores = cross_val_score(sgd_model, tmp_train, tmp_train_labels, cv=10)\n",
    "sgd_scores.mean()"
   ]
  },
  {
   "cell_type": "code",
   "execution_count": 68,
   "metadata": {},
   "outputs": [
    {
     "data": {
      "text/plain": [
       "0.8192883895131086"
      ]
     },
     "execution_count": 68,
     "metadata": {},
     "output_type": "execute_result"
    }
   ],
   "source": [
    "svm_model = SVC(random_state=42)\n",
    "svm_scores = cross_val_score(svm_model, tmp_train, tmp_train_labels, cv=10)\n",
    "svm_scores.mean()"
   ]
  },
  {
   "cell_type": "code",
   "execution_count": 69,
   "metadata": {},
   "outputs": [
    {
     "data": {
      "text/plain": [
       "0.7946441947565542"
      ]
     },
     "execution_count": 69,
     "metadata": {},
     "output_type": "execute_result"
    }
   ],
   "source": [
    "tree_model = DecisionTreeClassifier()\n",
    "tree_scores = cross_val_score(tree_model, tmp_train, tmp_train_labels, cv=10)\n",
    "tree_scores.mean()"
   ]
  },
  {
   "cell_type": "code",
   "execution_count": 70,
   "metadata": {},
   "outputs": [
    {
     "data": {
      "text/plain": [
       "0.7935205992509362"
      ]
     },
     "execution_count": 70,
     "metadata": {},
     "output_type": "execute_result"
    }
   ],
   "source": [
    "log_model = LogisticRegression()\n",
    "log_scores= cross_val_score(log_model, tmp_train, tmp_train_labels, cv=10)\n",
    "log_scores.mean()"
   ]
  },
  {
   "attachments": {},
   "cell_type": "markdown",
   "metadata": {},
   "source": [
    "We are looking for best parameters:"
   ]
  },
  {
   "attachments": {},
   "cell_type": "markdown",
   "metadata": {},
   "source": [
    "<h4><li style=\"color: #808000;\">Random Forest:</li></h4>"
   ]
  },
  {
   "cell_type": "code",
   "execution_count": 71,
   "metadata": {},
   "outputs": [
    {
     "name": "stdout",
     "output_type": "stream",
     "text": [
      "0.8047565543071162\n",
      "{'bootstrap': False, 'max_features': 2, 'n_estimators': 10}\n"
     ]
    }
   ],
   "source": [
    "param_grid = [\n",
    "    {'n_estimators': [3, 10, 30], 'max_features': [2, 4, 6, 8]},\n",
    "    {'bootstrap': [False], 'n_estimators': [3, 10], 'max_features': [2, 3, 4]},\n",
    "  ]\n",
    "\n",
    "forest_model = RandomForestClassifier(random_state=42)\n",
    "grid_search_rfc = GridSearchCV(forest_model, param_grid, cv=10, scoring=\"accuracy\")\n",
    "grid_search_rfc.fit(tmp_train, tmp_train_labels)\n",
    "print(grid_search_rfc.best_score_)\n",
    "print(grid_search_rfc.best_params_)"
   ]
  },
  {
   "attachments": {},
   "cell_type": "markdown",
   "metadata": {},
   "source": [
    "<h4><li style=\"color: #808000;\">SVM:</li></h4>"
   ]
  },
  {
   "cell_type": "code",
   "execution_count": 72,
   "metadata": {},
   "outputs": [
    {
     "name": "stdout",
     "output_type": "stream",
     "text": [
      "0.8215605493133582\n",
      "{'C': 3, 'decision_function_shape': 'ovo', 'gamma': 'scale', 'kernel': 'rbf'}\n"
     ]
    }
   ],
   "source": [
    "param_grid = [{\n",
    "    \"C\": [0.3, 1, 3],\n",
    "    \"kernel\": [\"linear\", \"rbf\", \"poly\"],\n",
    "    \"gamma\": [\"scale\", \"auto\"],\n",
    "    \"decision_function_shape\": [\"ovo\", \"ovr\"],\n",
    "}]\n",
    "\n",
    "svm_model = SVC(random_state=42)\n",
    "grid_search_svc = GridSearchCV(svm_model, param_grid, cv=10, scoring=\"accuracy\")\n",
    "grid_search_svc.fit(tmp_train, tmp_train_labels)\n",
    "print(grid_search_svc.best_score_)\n",
    "print(grid_search_svc.best_params_)"
   ]
  },
  {
   "attachments": {},
   "cell_type": "markdown",
   "metadata": {},
   "source": [
    "<h4><li style=\"color: #808000;\">Logistic Regression:</li></h4>"
   ]
  },
  {
   "cell_type": "code",
   "execution_count": 73,
   "metadata": {},
   "outputs": [
    {
     "name": "stdout",
     "output_type": "stream",
     "text": [
      "0.7957677902621723\n",
      "{'C': 1.6681005372000588, 'max_iter': 300, 'penalty': 'l2'}\n"
     ]
    }
   ],
   "source": [
    "param_grid = [{\n",
    "    'penalty': ['l1', 'l2' , 'elasticnet'], \n",
    "    'C': np.logspace(0, 2, 10),\n",
    "    'max_iter': [300,400,500,800]\n",
    "}]\n",
    "\n",
    "log_model = LogisticRegression(random_state=42)\n",
    "grid_search_log = GridSearchCV(log_model, param_grid, cv=10, scoring=\"accuracy\")\n",
    "grid_search_log.fit(tmp_train, tmp_train_labels)\n",
    "print(grid_search_log.best_score_)\n",
    "print(grid_search_log.best_params_)"
   ]
  },
  {
   "attachments": {},
   "cell_type": "markdown",
   "metadata": {},
   "source": [
    "<h2 style=\"color: #800000;\">6- Last Step</h2>"
   ]
  },
  {
   "attachments": {},
   "cell_type": "markdown",
   "metadata": {},
   "source": [
    "The best model out of these is the `SVC`, and we'll use it in this last step to predict the `Test Dataset`:"
   ]
  },
  {
   "cell_type": "code",
   "execution_count": 74,
   "metadata": {},
   "outputs": [
    {
     "data": {
      "text/html": [
       "<style>#sk-container-id-2 {color: black;background-color: white;}#sk-container-id-2 pre{padding: 0;}#sk-container-id-2 div.sk-toggleable {background-color: white;}#sk-container-id-2 label.sk-toggleable__label {cursor: pointer;display: block;width: 100%;margin-bottom: 0;padding: 0.3em;box-sizing: border-box;text-align: center;}#sk-container-id-2 label.sk-toggleable__label-arrow:before {content: \"▸\";float: left;margin-right: 0.25em;color: #696969;}#sk-container-id-2 label.sk-toggleable__label-arrow:hover:before {color: black;}#sk-container-id-2 div.sk-estimator:hover label.sk-toggleable__label-arrow:before {color: black;}#sk-container-id-2 div.sk-toggleable__content {max-height: 0;max-width: 0;overflow: hidden;text-align: left;background-color: #f0f8ff;}#sk-container-id-2 div.sk-toggleable__content pre {margin: 0.2em;color: black;border-radius: 0.25em;background-color: #f0f8ff;}#sk-container-id-2 input.sk-toggleable__control:checked~div.sk-toggleable__content {max-height: 200px;max-width: 100%;overflow: auto;}#sk-container-id-2 input.sk-toggleable__control:checked~label.sk-toggleable__label-arrow:before {content: \"▾\";}#sk-container-id-2 div.sk-estimator input.sk-toggleable__control:checked~label.sk-toggleable__label {background-color: #d4ebff;}#sk-container-id-2 div.sk-label input.sk-toggleable__control:checked~label.sk-toggleable__label {background-color: #d4ebff;}#sk-container-id-2 input.sk-hidden--visually {border: 0;clip: rect(1px 1px 1px 1px);clip: rect(1px, 1px, 1px, 1px);height: 1px;margin: -1px;overflow: hidden;padding: 0;position: absolute;width: 1px;}#sk-container-id-2 div.sk-estimator {font-family: monospace;background-color: #f0f8ff;border: 1px dotted black;border-radius: 0.25em;box-sizing: border-box;margin-bottom: 0.5em;}#sk-container-id-2 div.sk-estimator:hover {background-color: #d4ebff;}#sk-container-id-2 div.sk-parallel-item::after {content: \"\";width: 100%;border-bottom: 1px solid gray;flex-grow: 1;}#sk-container-id-2 div.sk-label:hover label.sk-toggleable__label {background-color: #d4ebff;}#sk-container-id-2 div.sk-serial::before {content: \"\";position: absolute;border-left: 1px solid gray;box-sizing: border-box;top: 0;bottom: 0;left: 50%;z-index: 0;}#sk-container-id-2 div.sk-serial {display: flex;flex-direction: column;align-items: center;background-color: white;padding-right: 0.2em;padding-left: 0.2em;position: relative;}#sk-container-id-2 div.sk-item {position: relative;z-index: 1;}#sk-container-id-2 div.sk-parallel {display: flex;align-items: stretch;justify-content: center;background-color: white;position: relative;}#sk-container-id-2 div.sk-item::before, #sk-container-id-2 div.sk-parallel-item::before {content: \"\";position: absolute;border-left: 1px solid gray;box-sizing: border-box;top: 0;bottom: 0;left: 50%;z-index: -1;}#sk-container-id-2 div.sk-parallel-item {display: flex;flex-direction: column;z-index: 1;position: relative;background-color: white;}#sk-container-id-2 div.sk-parallel-item:first-child::after {align-self: flex-end;width: 50%;}#sk-container-id-2 div.sk-parallel-item:last-child::after {align-self: flex-start;width: 50%;}#sk-container-id-2 div.sk-parallel-item:only-child::after {width: 0;}#sk-container-id-2 div.sk-dashed-wrapped {border: 1px dashed gray;margin: 0 0.4em 0.5em 0.4em;box-sizing: border-box;padding-bottom: 0.4em;background-color: white;}#sk-container-id-2 div.sk-label label {font-family: monospace;font-weight: bold;display: inline-block;line-height: 1.2em;}#sk-container-id-2 div.sk-label-container {text-align: center;}#sk-container-id-2 div.sk-container {/* jupyter's `normalize.less` sets `[hidden] { display: none; }` but bootstrap.min.css set `[hidden] { display: none !important; }` so we also need the `!important` here to be able to override the default hidden behavior on the sphinx rendered scikit-learn.org. See: https://github.com/scikit-learn/scikit-learn/issues/21755 */display: inline-block !important;position: relative;}#sk-container-id-2 div.sk-text-repr-fallback {display: none;}</style><div id=\"sk-container-id-2\" class=\"sk-top-container\"><div class=\"sk-text-repr-fallback\"><pre>SVC(C=3, decision_function_shape=&#x27;ovo&#x27;, random_state=42)</pre><b>In a Jupyter environment, please rerun this cell to show the HTML representation or trust the notebook. <br />On GitHub, the HTML representation is unable to render, please try loading this page with nbviewer.org.</b></div><div class=\"sk-container\" hidden><div class=\"sk-item\"><div class=\"sk-estimator sk-toggleable\"><input class=\"sk-toggleable__control sk-hidden--visually\" id=\"sk-estimator-id-2\" type=\"checkbox\" checked><label for=\"sk-estimator-id-2\" class=\"sk-toggleable__label sk-toggleable__label-arrow\">SVC</label><div class=\"sk-toggleable__content\"><pre>SVC(C=3, decision_function_shape=&#x27;ovo&#x27;, random_state=42)</pre></div></div></div></div></div>"
      ],
      "text/plain": [
       "SVC(C=3, decision_function_shape='ovo', random_state=42)"
      ]
     },
     "execution_count": 74,
     "metadata": {},
     "output_type": "execute_result"
    }
   ],
   "source": [
    "svm_final = SVC(random_state=42, **grid_search_svc.best_params_)\n",
    "svm_final.fit(tmp_train, tmp_train_labels)"
   ]
  },
  {
   "cell_type": "code",
   "execution_count": 75,
   "metadata": {},
   "outputs": [
    {
     "data": {
      "text/html": [
       "<div>\n",
       "<style scoped>\n",
       "    .dataframe tbody tr th:only-of-type {\n",
       "        vertical-align: middle;\n",
       "    }\n",
       "\n",
       "    .dataframe tbody tr th {\n",
       "        vertical-align: top;\n",
       "    }\n",
       "\n",
       "    .dataframe thead th {\n",
       "        text-align: right;\n",
       "    }\n",
       "</style>\n",
       "<table border=\"1\" class=\"dataframe\">\n",
       "  <thead>\n",
       "    <tr style=\"text-align: right;\">\n",
       "      <th></th>\n",
       "      <th>PassengerId</th>\n",
       "      <th>Survived</th>\n",
       "    </tr>\n",
       "  </thead>\n",
       "  <tbody>\n",
       "    <tr>\n",
       "      <th>0</th>\n",
       "      <td>892</td>\n",
       "      <td>0</td>\n",
       "    </tr>\n",
       "    <tr>\n",
       "      <th>1</th>\n",
       "      <td>893</td>\n",
       "      <td>0</td>\n",
       "    </tr>\n",
       "    <tr>\n",
       "      <th>2</th>\n",
       "      <td>894</td>\n",
       "      <td>0</td>\n",
       "    </tr>\n",
       "    <tr>\n",
       "      <th>3</th>\n",
       "      <td>895</td>\n",
       "      <td>0</td>\n",
       "    </tr>\n",
       "    <tr>\n",
       "      <th>4</th>\n",
       "      <td>896</td>\n",
       "      <td>0</td>\n",
       "    </tr>\n",
       "    <tr>\n",
       "      <th>...</th>\n",
       "      <td>...</td>\n",
       "      <td>...</td>\n",
       "    </tr>\n",
       "    <tr>\n",
       "      <th>413</th>\n",
       "      <td>1305</td>\n",
       "      <td>0</td>\n",
       "    </tr>\n",
       "    <tr>\n",
       "      <th>414</th>\n",
       "      <td>1306</td>\n",
       "      <td>1</td>\n",
       "    </tr>\n",
       "    <tr>\n",
       "      <th>415</th>\n",
       "      <td>1307</td>\n",
       "      <td>0</td>\n",
       "    </tr>\n",
       "    <tr>\n",
       "      <th>416</th>\n",
       "      <td>1308</td>\n",
       "      <td>0</td>\n",
       "    </tr>\n",
       "    <tr>\n",
       "      <th>417</th>\n",
       "      <td>1309</td>\n",
       "      <td>0</td>\n",
       "    </tr>\n",
       "  </tbody>\n",
       "</table>\n",
       "<p>418 rows × 2 columns</p>\n",
       "</div>"
      ],
      "text/plain": [
       "     PassengerId  Survived\n",
       "0            892         0\n",
       "1            893         0\n",
       "2            894         0\n",
       "3            895         0\n",
       "4            896         0\n",
       "..           ...       ...\n",
       "413         1305         0\n",
       "414         1306         1\n",
       "415         1307         0\n",
       "416         1308         0\n",
       "417         1309         0\n",
       "\n",
       "[418 rows x 2 columns]"
      ]
     },
     "execution_count": 75,
     "metadata": {},
     "output_type": "execute_result"
    }
   ],
   "source": [
    "tmp_test = pd.read_csv(\"test.csv\")\n",
    "idx = tmp_test[\"PassengerId\"]\n",
    "tmp_test = tmp_test.set_index(\"PassengerId\")\n",
    "tmp_test = preproc_pipeline.transform(tmp_test)\n",
    "\n",
    "results = svm_final.predict(tmp_test)\n",
    "df = pd.DataFrame({\"PassengerId\": idx, \"Survived\": results})\n",
    "df.set_index(\"PassengerId\").to_csv(\"submission5.csv\")\n",
    "df"
   ]
  }
 ],
 "metadata": {
  "kernelspec": {
   "display_name": "Python 3",
   "language": "python",
   "name": "python3"
  },
  "language_info": {
   "codemirror_mode": {
    "name": "ipython",
    "version": 3
   },
   "file_extension": ".py",
   "mimetype": "text/x-python",
   "name": "python",
   "nbconvert_exporter": "python",
   "pygments_lexer": "ipython3",
   "version": "3.10.9"
  },
  "orig_nbformat": 4,
  "vscode": {
   "interpreter": {
    "hash": "4616066d6de94223d6dfbea6dbfec1a81056d26ff9efd96f39680a77ec970445"
   }
  }
 },
 "nbformat": 4,
 "nbformat_minor": 2
}
